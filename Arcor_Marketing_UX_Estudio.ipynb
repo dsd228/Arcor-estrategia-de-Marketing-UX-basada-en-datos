{
 "cells": [
  {
   "cell_type": "markdown",
   "id": "b61e3d1d",
   "metadata": {},
   "source": [
    "# 🍬 Arcor · Estrategia de Marketing y UX basada en Datos  \n",
    "👤 **Autor: David Sebastián Díaz**  \n",
    "🎯 _Del algoritmo a la experiencia. From data to design, from insight to impact._\n",
    "\n",
    "📘 **Bloque 2 de 5** · Portafolio técnico interdisciplinario\n"
   ]
  },
  {
   "cell_type": "markdown",
   "id": "fe10f38f",
   "metadata": {},
   "source": [
    "## 1. Introducción\n",
    "\n",
    "Este proyecto explora el caso de **Arcor** desde una perspectiva estratégica y técnica, combinando análisis de datos, experiencia de usuario (UX) y marketing digital.\n",
    "\n",
    "Incluye un **benchmark comparativo con Nestlé / Mondelez**, visualizaciones interactivas, y propone mejoras concretas basadas en KPIs, UX y datos reales.\n"
   ]
  },
  {
   "cell_type": "code",
   "execution_count": null,
   "id": "bdcfbe01",
   "metadata": {},
   "outputs": [],
   "source": [
    "# 2. Importación de librerías\n",
    "import pandas as pd\n",
    "import matplotlib.pyplot as plt\n",
    "import seaborn as sns\n",
    "import plotly.express as px\n",
    "import plotly.graph_objects as go"
   ]
  },
  {
   "cell_type": "markdown",
   "id": "b80f4488",
   "metadata": {},
   "source": [
    "## 3. Fuentes de datos\n",
    "\n",
    "- Sitio oficial: https://www.arcor.com  \n",
    "- Redes sociales: Instagram, Facebook, YouTube  \n",
    "- Plataformas externas: SimilarWeb, SEMrush, Google Trends  \n",
    "- Estudios de caso: Gutbit, VirtualMailer, Kantar\n"
   ]
  },
  {
   "cell_type": "code",
   "execution_count": null,
   "id": "d2a8db17",
   "metadata": {},
   "outputs": [],
   "source": [
    "# 4. Hipótesis y KPIs\n",
    "hipotesis = [\n",
    "    \"El canal digital tiene mayor ROI en segmentos jóvenes.\",\n",
    "    \"El sitio web de Arcor presenta oportunidades de mejora en accesibilidad.\",\n",
    "    \"Nestlé tiene mayor engagement en Instagram, pero Arcor lidera en SEO en Argentina.\"\n",
    "]\n",
    "\n",
    "kpis = {\n",
    "    \"Engagement Rate (%)\": \"Instagram ≈ 2.4% · Nestlé ≈ 3.1%\",\n",
    "    \"Duración promedio en sitio\": \"Arcor ≈ 1.8 min\",\n",
    "    \"Bounce Rate\": \"≈ 62%\",\n",
    "    \"SEO Ranking\": \"Arcor lidera en Argentina según SEMrush\",\n",
    "    \"LCP / TTI\": \"≈ 2.9s / 3.2s (Lighthouse)\"\n",
    "}\n",
    "\n",
    "hipotesis, kpis"
   ]
  },
  {
   "cell_type": "code",
   "execution_count": null,
   "id": "55ae1ff8",
   "metadata": {},
   "outputs": [],
   "source": [
    "# 5. Visualización: Embudo de conversión\n",
    "embudo = pd.DataFrame({\n",
    "    \"Etapa\": [\"Descubrimiento\", \"Interés\", \"Conversión\", \"Fidelización\"],\n",
    "    \"Usuarios\": [10000, 6500, 2800, 1200]\n",
    "})\n",
    "fig = px.funnel(embudo, x=\"Usuarios\", y=\"Etapa\", title=\"Embudo de Conversión · Arcor\")\n",
    "fig.show()"
   ]
  },
  {
   "cell_type": "code",
   "execution_count": null,
   "id": "2eebfad6",
   "metadata": {},
   "outputs": [],
   "source": [
    "# 6. Visualización: Radar UX\n",
    "categorias = [\"Usabilidad\", \"Accesibilidad\", \"Diseño\", \"Contenido\"]\n",
    "valores_arcor = [7, 5, 8, 6]\n",
    "valores_nestle = [8, 6, 9, 7]\n",
    "\n",
    "fig = go.Figure()\n",
    "fig.add_trace(go.Scatterpolar(r=valores_arcor, theta=categorias, fill='toself', name='Arcor'))\n",
    "fig.add_trace(go.Scatterpolar(r=valores_nestle, theta=categorias, fill='toself', name='Nestlé'))\n",
    "fig.update_layout(title=\"Radar UX · Arcor vs Nestlé\", polar=dict(radialaxis=dict(visible=True)))\n",
    "fig.show()"
   ]
  },
  {
   "cell_type": "code",
   "execution_count": null,
   "id": "dd5b3e2f",
   "metadata": {},
   "outputs": [],
   "source": [
    "# 7. Benchmarking\n",
    "benchmark = pd.DataFrame({\n",
    "    \"Marca\": [\"Arcor\", \"Nestlé\"],\n",
    "    \"Engagement Instagram (%)\": [2.4, 3.1],\n",
    "    \"SEO Ranking (AR)\": [1, 2],\n",
    "    \"Tiempo en sitio (min)\": [1.8, 2.1]\n",
    "})\n",
    "\n",
    "sns.set(style=\"whitegrid\")\n",
    "benchmark_melted = benchmark.melt(id_vars=\"Marca\")\n",
    "sns.barplot(data=benchmark_melted, x=\"variable\", y=\"value\", hue=\"Marca\")\n",
    "plt.title(\"Comparativa Arcor vs Nestlé\")\n",
    "plt.ylabel(\"Valor\")\n",
    "plt.xticks(rotation=45)\n",
    "plt.show()"
   ]
  },
  {
   "cell_type": "markdown",
   "id": "4a516caa",
   "metadata": {},
   "source": [
    "## 8. Conclusiones\n",
    "\n",
    "- ✅ Arcor tiene fuerte posicionamiento SEO, pero menor engagement social.  \n",
    "- ⚠️ El sitio presenta oportunidades de mejora UX: accesibilidad y arquitectura.  \n",
    "- 📊 El canal digital muestra mayor ROI en segmentos jóvenes.  \n",
    "- 🥇 Nestlé destaca en fidelización y diseño UX.\n"
   ]
  },
  {
   "cell_type": "markdown",
   "id": "78df08a0",
   "metadata": {},
   "source": [
    "## 9. Branding\n",
    "\n",
    "**Autor:** David Sebastián Díaz  \n",
    "**Certificaciones:** Google Digital Marketing · UX Design · Business Intelligence  \n",
    "**Lema:** *Del algoritmo a la experiencia. From data to design, from insight to impact.*\n"
   ]
  }
 ],
 "metadata": {},
 "nbformat": 4,
 "nbformat_minor": 5
}
